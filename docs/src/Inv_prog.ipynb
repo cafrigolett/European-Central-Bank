{
 "cells": [
  {
   "cell_type": "markdown",
   "metadata": {},
   "source": [
    "# Trend in bonds investment:"
   ]
  },
  {
   "cell_type": "markdown",
   "metadata": {},
   "source": [
    "## Data processing"
   ]
  },
  {
   "cell_type": "code",
   "execution_count": 2,
   "metadata": {
    "ExecuteTime": {
     "end_time": "2021-05-22T07:31:39.797009Z",
     "start_time": "2021-05-22T07:31:37.073714Z"
    }
   },
   "outputs": [],
   "source": [
    "from PIL import Image\n",
    "import requests\n",
    "from io import BytesIO\n",
    "import matplotlib.image as mpimg\n",
    "import matplotlib.pyplot as plt\n",
    "from PIL import Image\n",
    "\n",
    "from datetime import datetime, timedelta\n",
    "import statsmodels.api as sm\n",
    "import warnings\n",
    "import itertools\n",
    "import numpy as np\n",
    "import matplotlib.pyplot as plt\n",
    "warnings.filterwarnings(\"ignore\")\n",
    "plt.style.use('fivethirtyeight')\n",
    "import pandas as pd\n",
    "import statsmodels.api as sm\n",
    "import matplotlib\n",
    "matplotlib.rcParams['axes.labelsize'] = 14\n",
    "matplotlib.rcParams['xtick.labelsize'] = 12\n",
    "matplotlib.rcParams['ytick.labelsize'] = 12\n",
    "matplotlib.rcParams['text.color'] = 'k'"
   ]
  },
  {
   "cell_type": "code",
   "execution_count": 3,
   "metadata": {
    "ExecuteTime": {
     "end_time": "2021-05-22T08:16:53.089554Z",
     "start_time": "2021-05-22T08:16:51.372896Z"
    }
   },
   "outputs": [
    {
     "data": {
      "text/html": [
       "<div>\n",
       "<style scoped>\n",
       "    .dataframe tbody tr th:only-of-type {\n",
       "        vertical-align: middle;\n",
       "    }\n",
       "\n",
       "    .dataframe tbody tr th {\n",
       "        vertical-align: top;\n",
       "    }\n",
       "\n",
       "    .dataframe thead th {\n",
       "        text-align: right;\n",
       "    }\n",
       "</style>\n",
       "<table border=\"1\" class=\"dataframe\">\n",
       "  <thead>\n",
       "    <tr style=\"text-align: right;\">\n",
       "      <th></th>\n",
       "      <th>NCB</th>\n",
       "      <th>historical_date</th>\n",
       "      <th>ISIN_Code</th>\n",
       "      <th>Issuer_Name</th>\n",
       "      <th>Maturity_Date</th>\n",
       "      <th>Coupon_Rate</th>\n",
       "      <th>company_name</th>\n",
       "      <th>company_description</th>\n",
       "      <th>relationship_to_bond</th>\n",
       "      <th>sector</th>\n",
       "      <th>...</th>\n",
       "      <th>status</th>\n",
       "      <th>stocks_info</th>\n",
       "      <th>bond_types</th>\n",
       "      <th>Floating rate</th>\n",
       "      <th>Foreign bonds</th>\n",
       "      <th>Green bonds</th>\n",
       "      <th>Securitization</th>\n",
       "      <th>Senior Secured</th>\n",
       "      <th>Senior Unsecured</th>\n",
       "      <th>Zero-coupon bonds</th>\n",
       "    </tr>\n",
       "  </thead>\n",
       "  <tbody>\n",
       "    <tr>\n",
       "      <th>0</th>\n",
       "      <td>FI</td>\n",
       "      <td>20170811</td>\n",
       "      <td>AT0000A0KSM6</td>\n",
       "      <td>NOVOMATIC AG</td>\n",
       "      <td>27/10/2017</td>\n",
       "      <td>5</td>\n",
       "      <td>Novomatic</td>\n",
       "      <td>The NOVOMATIC Holding is an integrated global ...</td>\n",
       "      <td>Profile</td>\n",
       "      <td>corporate</td>\n",
       "      <td>...</td>\n",
       "      <td>Matured</td>\n",
       "      <td>Par amount, integral multiple</td>\n",
       "      <td>NaN</td>\n",
       "      <td>no</td>\n",
       "      <td>no</td>\n",
       "      <td>no</td>\n",
       "      <td>no</td>\n",
       "      <td>no</td>\n",
       "      <td>no</td>\n",
       "      <td>no</td>\n",
       "    </tr>\n",
       "    <tr>\n",
       "      <th>1</th>\n",
       "      <td>FI</td>\n",
       "      <td>20171013</td>\n",
       "      <td>AT0000A0KSM6</td>\n",
       "      <td>NOVOMATIC AG</td>\n",
       "      <td>10/27/2017</td>\n",
       "      <td>5</td>\n",
       "      <td>Novomatic</td>\n",
       "      <td>The NOVOMATIC Holding is an integrated global ...</td>\n",
       "      <td>Profile</td>\n",
       "      <td>corporate</td>\n",
       "      <td>...</td>\n",
       "      <td>Matured</td>\n",
       "      <td>Par amount, integral multiple</td>\n",
       "      <td>NaN</td>\n",
       "      <td>no</td>\n",
       "      <td>no</td>\n",
       "      <td>no</td>\n",
       "      <td>no</td>\n",
       "      <td>no</td>\n",
       "      <td>no</td>\n",
       "      <td>no</td>\n",
       "    </tr>\n",
       "    <tr>\n",
       "      <th>2</th>\n",
       "      <td>FI</td>\n",
       "      <td>20170721</td>\n",
       "      <td>AT0000A0KSM6</td>\n",
       "      <td>NOVOMATIC AG</td>\n",
       "      <td>27/10/2017</td>\n",
       "      <td>5</td>\n",
       "      <td>Novomatic</td>\n",
       "      <td>The NOVOMATIC Holding is an integrated global ...</td>\n",
       "      <td>Profile</td>\n",
       "      <td>corporate</td>\n",
       "      <td>...</td>\n",
       "      <td>Matured</td>\n",
       "      <td>Par amount, integral multiple</td>\n",
       "      <td>NaN</td>\n",
       "      <td>no</td>\n",
       "      <td>no</td>\n",
       "      <td>no</td>\n",
       "      <td>no</td>\n",
       "      <td>no</td>\n",
       "      <td>no</td>\n",
       "      <td>no</td>\n",
       "    </tr>\n",
       "  </tbody>\n",
       "</table>\n",
       "<p>3 rows × 30 columns</p>\n",
       "</div>"
      ],
      "text/plain": [
       "  NCB  historical_date     ISIN_Code   Issuer_Name Maturity_Date Coupon_Rate  \\\n",
       "0  FI         20170811  AT0000A0KSM6  NOVOMATIC AG    27/10/2017           5   \n",
       "1  FI         20171013  AT0000A0KSM6  NOVOMATIC AG    10/27/2017           5   \n",
       "2  FI         20170721  AT0000A0KSM6  NOVOMATIC AG    27/10/2017           5   \n",
       "\n",
       "  company_name                                company_description  \\\n",
       "0    Novomatic  The NOVOMATIC Holding is an integrated global ...   \n",
       "1    Novomatic  The NOVOMATIC Holding is an integrated global ...   \n",
       "2    Novomatic  The NOVOMATIC Holding is an integrated global ...   \n",
       "\n",
       "  relationship_to_bond     sector  ...   status  \\\n",
       "0              Profile  corporate  ...  Matured   \n",
       "1              Profile  corporate  ...  Matured   \n",
       "2              Profile  corporate  ...  Matured   \n",
       "\n",
       "                     stocks_info bond_types Floating rate Foreign bonds  \\\n",
       "0  Par amount, integral multiple        NaN            no            no   \n",
       "1  Par amount, integral multiple        NaN            no            no   \n",
       "2  Par amount, integral multiple        NaN            no            no   \n",
       "\n",
       "  Green bonds  Securitization Senior Secured Senior Unsecured  \\\n",
       "0          no              no             no               no   \n",
       "1          no              no             no               no   \n",
       "2          no              no             no               no   \n",
       "\n",
       "  Zero-coupon bonds  \n",
       "0                no  \n",
       "1                no  \n",
       "2                no  \n",
       "\n",
       "[3 rows x 30 columns]"
      ]
     },
     "execution_count": 3,
     "metadata": {},
     "output_type": "execute_result"
    }
   ],
   "source": [
    "bonds = pd.read_csv(\"https://www.dropbox.com/s/70ig02z77ranw6x/All_of_the_data.csv?dl=1\",header=0)\n",
    "bonds.head(n=3)"
   ]
  },
  {
   "cell_type": "code",
   "execution_count": 5,
   "metadata": {
    "ExecuteTime": {
     "end_time": "2021-05-22T07:31:55.251507Z",
     "start_time": "2021-05-22T07:31:55.240537Z"
    }
   },
   "outputs": [
    {
     "data": {
      "text/plain": [
       "NCB                     object\n",
       "historical_date          int64\n",
       "ISIN_Code               object\n",
       "Issuer_Name             object\n",
       "Maturity_Date           object\n",
       "Coupon_Rate             object\n",
       "company_name            object\n",
       "company_description     object\n",
       "relationship_to_bond    object\n",
       "sector                  object\n",
       "industry                object\n",
       "bond_destination        object\n",
       "coupon_rate             object\n",
       "total_bond_amount       object\n",
       "nominal_amount          object\n",
       "quarter_created         object\n",
       "year_created             int64\n",
       "maturity_date           object\n",
       "bond_currency           object\n",
       "country                 object\n",
       "status                  object\n",
       "stocks_info             object\n",
       "bond_types              object\n",
       "Floating rate           object\n",
       "Foreign bonds           object\n",
       "Green bonds             object\n",
       "Securitization          object\n",
       "Senior Secured          object\n",
       "Senior Unsecured        object\n",
       "Zero-coupon bonds       object\n",
       "dtype: object"
      ]
     },
     "execution_count": 5,
     "metadata": {},
     "output_type": "execute_result"
    }
   ],
   "source": [
    "bonds.dtypes"
   ]
  },
  {
   "cell_type": "code",
   "execution_count": 6,
   "metadata": {
    "ExecuteTime": {
     "end_time": "2021-05-22T08:16:56.231916Z",
     "start_time": "2021-05-22T08:16:56.184028Z"
    },
    "scrolled": false
   },
   "outputs": [
    {
     "data": {
      "text/plain": [
       "(256413, 9)"
      ]
     },
     "execution_count": 6,
     "metadata": {},
     "output_type": "execute_result"
    }
   ],
   "source": [
    "##Subsetting columns\n",
    "bonds=bonds[[\"industry\",\"country\",\"bond_types\",\"ISIN_Code\",\"total_bond_amount\",\"coupon_rate\",\"nominal_amount\",\"maturity_date\",'historical_date']]\n",
    "bonds.shape"
   ]
  },
  {
   "cell_type": "code",
   "execution_count": 7,
   "metadata": {
    "ExecuteTime": {
     "end_time": "2021-05-22T08:16:57.925809Z",
     "start_time": "2021-05-22T08:16:57.865958Z"
    }
   },
   "outputs": [
    {
     "data": {
      "text/plain": [
       "(141483, 9)"
      ]
     },
     "execution_count": 7,
     "metadata": {},
     "output_type": "execute_result"
    }
   ],
   "source": [
    "#Deletion of null bond types\n",
    "bonds=bonds[~pd.isnull(bonds[\"bond_types\"])]\n",
    "bonds.shape"
   ]
  },
  {
   "cell_type": "code",
   "execution_count": 8,
   "metadata": {
    "ExecuteTime": {
     "end_time": "2021-05-22T08:17:00.801995Z",
     "start_time": "2021-05-22T08:17:00.616327Z"
    }
   },
   "outputs": [],
   "source": [
    "#Grouping bond types\n",
    "auxgreen=[\"Green\" in  aux for aux in bonds[\"bond_types\"]]\n",
    "bonds.iloc[auxgreen,2]=\"Green bonds\"\n",
    "\n",
    "auxzero=[\"Zero\" in  aux for aux in bonds[\"bond_types\"]]\n",
    "bonds.iloc[auxzero,2]=\"Zero-coupon bonds\"\n",
    "\n",
    "auxforeign=[\"Foreign\" in  aux for aux in bonds[\"bond_types\"]]\n",
    "bonds.iloc[auxforeign,2]=\"Foreign bonds\"\n",
    "\n",
    "auxfloating=[\"Floating\" in  aux for aux in bonds[\"bond_types\"]]\n",
    "bonds.iloc[auxfloating,2]=\"Floating rate\"\n",
    "\n",
    "bonds[\"bond_types\"][bonds[\"bond_types\"].isin([\"Senior Secured\", \"Floating rate\", \"Foreign bonds\",\"Securitization\"])]=\"Others\"\n"
   ]
  },
  {
   "cell_type": "code",
   "execution_count": 9,
   "metadata": {
    "ExecuteTime": {
     "end_time": "2021-05-22T08:17:02.480637Z",
     "start_time": "2021-05-22T08:17:02.450718Z"
    }
   },
   "outputs": [
    {
     "data": {
      "text/plain": [
       "Senior Unsecured     117384\n",
       "Green bonds           11484\n",
       "Others                 6793\n",
       "Zero-coupon bonds      5822\n",
       "Name: bond_types, dtype: int64"
      ]
     },
     "execution_count": 9,
     "metadata": {},
     "output_type": "execute_result"
    }
   ],
   "source": [
    "bonds[\"bond_types\"].value_counts()"
   ]
  },
  {
   "cell_type": "code",
   "execution_count": 10,
   "metadata": {
    "ExecuteTime": {
     "end_time": "2021-05-22T08:17:04.966459Z",
     "start_time": "2021-05-22T08:17:04.906619Z"
    }
   },
   "outputs": [
    {
     "data": {
      "text/plain": [
       "Power                                  23281\n",
       "Engineering industry                   15149\n",
       "Communication                          13960\n",
       "Oil and gas                            13757\n",
       "Financial institutions                 12832\n",
       "Construction and development           12725\n",
       "Chemical and petrochemical industry    10798\n",
       "Transportation                         10264\n",
       "Food industry                           6565\n",
       "Public utilities                        5384\n",
       "Healthсare                              5166\n",
       "Information and High Technologies       4026\n",
       "Other sectors                           3042\n",
       "Trade and retail                        1565\n",
       "Light industry                          1525\n",
       "Media and Entertainment                 1444\n",
       "Name: industry, dtype: int64"
      ]
     },
     "execution_count": 10,
     "metadata": {},
     "output_type": "execute_result"
    }
   ],
   "source": [
    "#Groupipng industries\n",
    "bonds[\"industry\"][bonds[\"industry\"].isin([\"Pulp, paper and wood industries\", \"Ferrous metals\", \"Mining industry\",\"Non-ferrous metals\"])]=\"Other sectors\"\n",
    "bonds[\"industry\"].value_counts()"
   ]
  },
  {
   "cell_type": "code",
   "execution_count": 11,
   "metadata": {
    "ExecuteTime": {
     "end_time": "2021-05-22T08:17:11.177686Z",
     "start_time": "2021-05-22T08:17:11.038852Z"
    }
   },
   "outputs": [],
   "source": [
    "#Convert integer to date format\n",
    "bonds['historical_date'] = pd.to_datetime(bonds['historical_date'], format='%Y%m%d')\n",
    "bonds.sort_values(by=['historical_date'], inplace=True)\n",
    "\n",
    "\n",
    "bonds['week']=bonds['historical_date'].dt.week.astype(int)\n",
    "bonds['year']=bonds['historical_date'].dt.year.astype(int)"
   ]
  },
  {
   "cell_type": "code",
   "execution_count": 12,
   "metadata": {
    "ExecuteTime": {
     "end_time": "2021-05-22T08:17:13.776955Z",
     "start_time": "2021-05-22T08:17:13.744043Z"
    }
   },
   "outputs": [],
   "source": [
    "#Assigning a week number to each obs\n",
    "bonds['extra_weeks_2017'] = np.where(bonds['year']==2017, -25, 0)\n",
    "bonds['extra_weeks_2018'] = np.where(bonds['year']>=2018, 27, 0)\n",
    "bonds['extra_weeks_2019'] = np.where(bonds['year']>=2019, 52, 0)\n",
    "bonds['extra_weeks_2020'] = np.where(bonds['year']>=2020, 52, 0)\n",
    "bonds['extra_weeks_2021'] = np.where(bonds['year']>=2021, 51, 0)\n",
    "\n",
    "\n",
    "sum_column = bonds['week']+ bonds['extra_weeks_2017']+ bonds['extra_weeks_2018']+ bonds['extra_weeks_2019']+ bonds['extra_weeks_2020']+ bonds['extra_weeks_2021']\n",
    "bonds[\"n_week\"] = sum_column"
   ]
  },
  {
   "cell_type": "code",
   "execution_count": 13,
   "metadata": {
    "ExecuteTime": {
     "end_time": "2021-05-22T08:17:17.515946Z",
     "start_time": "2021-05-22T08:17:17.037020Z"
    }
   },
   "outputs": [],
   "source": [
    "##Transform nominal_amount into int\n",
    "bonds[['amount_str', 'EUR']] = bonds['nominal_amount'].str.split(' ', 1, expand=True)\n",
    "bonds['nom_amount']=bonds['amount_str'].str.replace(',','')\n",
    "bonds['nom_amount']=bonds['nom_amount'].astype(int)"
   ]
  },
  {
   "cell_type": "markdown",
   "metadata": {},
   "source": [
    "## Investment by bond type"
   ]
  },
  {
   "cell_type": "code",
   "execution_count": 14,
   "metadata": {
    "ExecuteTime": {
     "end_time": "2021-05-22T08:17:19.844521Z",
     "start_time": "2021-05-22T08:17:19.782459Z"
    }
   },
   "outputs": [
    {
     "data": {
      "text/html": [
       "<div>\n",
       "<style scoped>\n",
       "    .dataframe tbody tr th:only-of-type {\n",
       "        vertical-align: middle;\n",
       "    }\n",
       "\n",
       "    .dataframe tbody tr th {\n",
       "        vertical-align: top;\n",
       "    }\n",
       "\n",
       "    .dataframe thead th {\n",
       "        text-align: right;\n",
       "    }\n",
       "</style>\n",
       "<table border=\"1\" class=\"dataframe\">\n",
       "  <thead>\n",
       "    <tr style=\"text-align: right;\">\n",
       "      <th></th>\n",
       "      <th>0</th>\n",
       "      <th>1</th>\n",
       "      <th>2</th>\n",
       "      <th>3</th>\n",
       "      <th>4</th>\n",
       "      <th>5</th>\n",
       "      <th>6</th>\n",
       "      <th>7</th>\n",
       "      <th>8</th>\n",
       "      <th>9</th>\n",
       "      <th>...</th>\n",
       "      <th>794</th>\n",
       "      <th>795</th>\n",
       "      <th>796</th>\n",
       "      <th>797</th>\n",
       "      <th>798</th>\n",
       "      <th>799</th>\n",
       "      <th>800</th>\n",
       "      <th>801</th>\n",
       "      <th>802</th>\n",
       "      <th>803</th>\n",
       "    </tr>\n",
       "  </thead>\n",
       "  <tbody>\n",
       "    <tr>\n",
       "      <th>n_week</th>\n",
       "      <td>0</td>\n",
       "      <td>0</td>\n",
       "      <td>0</td>\n",
       "      <td>0</td>\n",
       "      <td>1</td>\n",
       "      <td>1</td>\n",
       "      <td>1</td>\n",
       "      <td>1</td>\n",
       "      <td>2</td>\n",
       "      <td>2</td>\n",
       "      <td>...</td>\n",
       "      <td>198</td>\n",
       "      <td>198</td>\n",
       "      <td>199</td>\n",
       "      <td>199</td>\n",
       "      <td>199</td>\n",
       "      <td>199</td>\n",
       "      <td>200</td>\n",
       "      <td>200</td>\n",
       "      <td>200</td>\n",
       "      <td>200</td>\n",
       "    </tr>\n",
       "    <tr>\n",
       "      <th>bond_types</th>\n",
       "      <td>Green bonds</td>\n",
       "      <td>Others</td>\n",
       "      <td>Senior Unsecured</td>\n",
       "      <td>Zero-coupon bonds</td>\n",
       "      <td>Green bonds</td>\n",
       "      <td>Others</td>\n",
       "      <td>Senior Unsecured</td>\n",
       "      <td>Zero-coupon bonds</td>\n",
       "      <td>Green bonds</td>\n",
       "      <td>Others</td>\n",
       "      <td>...</td>\n",
       "      <td>Senior Unsecured</td>\n",
       "      <td>Zero-coupon bonds</td>\n",
       "      <td>Green bonds</td>\n",
       "      <td>Others</td>\n",
       "      <td>Senior Unsecured</td>\n",
       "      <td>Zero-coupon bonds</td>\n",
       "      <td>Green bonds</td>\n",
       "      <td>Others</td>\n",
       "      <td>Senior Unsecured</td>\n",
       "      <td>Zero-coupon bonds</td>\n",
       "    </tr>\n",
       "    <tr>\n",
       "      <th>total_invest</th>\n",
       "      <td>1508000</td>\n",
       "      <td>1006000</td>\n",
       "      <td>9329153</td>\n",
       "      <td>712000</td>\n",
       "      <td>1510000</td>\n",
       "      <td>1106000</td>\n",
       "      <td>9329153</td>\n",
       "      <td>712000</td>\n",
       "      <td>1510000</td>\n",
       "      <td>1206000</td>\n",
       "      <td>...</td>\n",
       "      <td>25456304</td>\n",
       "      <td>2636000</td>\n",
       "      <td>4567200</td>\n",
       "      <td>3216000</td>\n",
       "      <td>25561304</td>\n",
       "      <td>2637000</td>\n",
       "      <td>4567200</td>\n",
       "      <td>3216000</td>\n",
       "      <td>25563304</td>\n",
       "      <td>2638000</td>\n",
       "    </tr>\n",
       "  </tbody>\n",
       "</table>\n",
       "<p>3 rows × 804 columns</p>\n",
       "</div>"
      ],
      "text/plain": [
       "                      0        1                 2                  3    \\\n",
       "n_week                  0        0                 0                  0   \n",
       "bond_types    Green bonds   Others  Senior Unsecured  Zero-coupon bonds   \n",
       "total_invest      1508000  1006000           9329153             712000   \n",
       "\n",
       "                      4        5                 6                  7    \\\n",
       "n_week                  1        1                 1                  1   \n",
       "bond_types    Green bonds   Others  Senior Unsecured  Zero-coupon bonds   \n",
       "total_invest      1510000  1106000           9329153             712000   \n",
       "\n",
       "                      8        9    ...               794                795  \\\n",
       "n_week                  2        2  ...               198                198   \n",
       "bond_types    Green bonds   Others  ...  Senior Unsecured  Zero-coupon bonds   \n",
       "total_invest      1510000  1206000  ...          25456304            2636000   \n",
       "\n",
       "                      796      797               798                799  \\\n",
       "n_week                199      199               199                199   \n",
       "bond_types    Green bonds   Others  Senior Unsecured  Zero-coupon bonds   \n",
       "total_invest      4567200  3216000          25561304            2637000   \n",
       "\n",
       "                      800      801               802                803  \n",
       "n_week                200      200               200                200  \n",
       "bond_types    Green bonds   Others  Senior Unsecured  Zero-coupon bonds  \n",
       "total_invest      4567200  3216000          25563304            2638000  \n",
       "\n",
       "[3 rows x 804 columns]"
      ]
     },
     "execution_count": 14,
     "metadata": {},
     "output_type": "execute_result"
    }
   ],
   "source": [
    "##Total investment by week and bond type\n",
    "cum_bonds=bonds.groupby(['n_week','bond_types'], as_index=False).agg(total_invest=('nom_amount', sum))\n",
    "cum_bonds.T"
   ]
  },
  {
   "cell_type": "code",
   "execution_count": 15,
   "metadata": {
    "ExecuteTime": {
     "end_time": "2021-05-22T08:17:22.285269Z",
     "start_time": "2021-05-22T08:17:22.277308Z"
    }
   },
   "outputs": [
    {
     "data": {
      "text/html": [
       "<div>\n",
       "<style scoped>\n",
       "    .dataframe tbody tr th:only-of-type {\n",
       "        vertical-align: middle;\n",
       "    }\n",
       "\n",
       "    .dataframe tbody tr th {\n",
       "        vertical-align: top;\n",
       "    }\n",
       "\n",
       "    .dataframe thead th {\n",
       "        text-align: right;\n",
       "    }\n",
       "</style>\n",
       "<table border=\"1\" class=\"dataframe\">\n",
       "  <thead>\n",
       "    <tr style=\"text-align: right;\">\n",
       "      <th></th>\n",
       "      <th>0</th>\n",
       "      <th>1</th>\n",
       "      <th>2</th>\n",
       "      <th>3</th>\n",
       "      <th>4</th>\n",
       "      <th>5</th>\n",
       "      <th>6</th>\n",
       "      <th>7</th>\n",
       "      <th>8</th>\n",
       "      <th>9</th>\n",
       "      <th>...</th>\n",
       "      <th>191</th>\n",
       "      <th>192</th>\n",
       "      <th>193</th>\n",
       "      <th>194</th>\n",
       "      <th>195</th>\n",
       "      <th>196</th>\n",
       "      <th>197</th>\n",
       "      <th>198</th>\n",
       "      <th>199</th>\n",
       "      <th>200</th>\n",
       "    </tr>\n",
       "  </thead>\n",
       "  <tbody>\n",
       "    <tr>\n",
       "      <th>n_week</th>\n",
       "      <td>0</td>\n",
       "      <td>1</td>\n",
       "      <td>2</td>\n",
       "      <td>3</td>\n",
       "      <td>4</td>\n",
       "      <td>5</td>\n",
       "      <td>6</td>\n",
       "      <td>7</td>\n",
       "      <td>8</td>\n",
       "      <td>9</td>\n",
       "      <td>...</td>\n",
       "      <td>191</td>\n",
       "      <td>192</td>\n",
       "      <td>193</td>\n",
       "      <td>194</td>\n",
       "      <td>195</td>\n",
       "      <td>196</td>\n",
       "      <td>197</td>\n",
       "      <td>198</td>\n",
       "      <td>199</td>\n",
       "      <td>200</td>\n",
       "    </tr>\n",
       "    <tr>\n",
       "      <th>total_invest</th>\n",
       "      <td>12555153</td>\n",
       "      <td>12657153</td>\n",
       "      <td>12760153</td>\n",
       "      <td>12761153</td>\n",
       "      <td>12861153</td>\n",
       "      <td>12961153</td>\n",
       "      <td>13065153</td>\n",
       "      <td>13165153</td>\n",
       "      <td>13165153</td>\n",
       "      <td>13165153</td>\n",
       "      <td>...</td>\n",
       "      <td>35254504</td>\n",
       "      <td>35361504</td>\n",
       "      <td>35363504</td>\n",
       "      <td>35462504</td>\n",
       "      <td>35468504</td>\n",
       "      <td>35872504</td>\n",
       "      <td>36074504</td>\n",
       "      <td>35975504</td>\n",
       "      <td>35981504</td>\n",
       "      <td>35984504</td>\n",
       "    </tr>\n",
       "  </tbody>\n",
       "</table>\n",
       "<p>2 rows × 201 columns</p>\n",
       "</div>"
      ],
      "text/plain": [
       "                   0         1         2         3         4         5    \\\n",
       "n_week               0         1         2         3         4         5   \n",
       "total_invest  12555153  12657153  12760153  12761153  12861153  12961153   \n",
       "\n",
       "                   6         7         8         9    ...       191       192  \\\n",
       "n_week               6         7         8         9  ...       191       192   \n",
       "total_invest  13065153  13165153  13165153  13165153  ...  35254504  35361504   \n",
       "\n",
       "                   193       194       195       196       197       198  \\\n",
       "n_week             193       194       195       196       197       198   \n",
       "total_invest  35363504  35462504  35468504  35872504  36074504  35975504   \n",
       "\n",
       "                   199       200  \n",
       "n_week             199       200  \n",
       "total_invest  35981504  35984504  \n",
       "\n",
       "[2 rows x 201 columns]"
      ]
     },
     "execution_count": 15,
     "metadata": {},
     "output_type": "execute_result"
    }
   ],
   "source": [
    "#Total investment per week\n",
    "sum_week=cum_bonds.groupby('n_week', as_index=False).sum()\n",
    "sum_week.T\n"
   ]
  },
  {
   "cell_type": "code",
   "execution_count": 16,
   "metadata": {
    "ExecuteTime": {
     "end_time": "2021-05-22T08:17:25.210005Z",
     "start_time": "2021-05-22T08:17:25.196040Z"
    }
   },
   "outputs": [],
   "source": [
    "total_per_week=[]\n",
    "for i in range(0, 201, 1):\n",
    "    repeated=  itertools.repeat(sum_week['total_invest'][i], 4)\n",
    "    total_per_week.extend(repeated)\n",
    "cum_bonds['weekly_total']=total_per_week\n",
    "#Percentage of weekly total invest\n",
    "cum_bonds['week_percent']=cum_bonds['total_invest']/cum_bonds['weekly_total']"
   ]
  },
  {
   "cell_type": "code",
   "execution_count": 17,
   "metadata": {
    "ExecuteTime": {
     "end_time": "2021-05-22T08:17:27.444290Z",
     "start_time": "2021-05-22T08:17:27.433318Z"
    }
   },
   "outputs": [],
   "source": [
    "#Curves per bond type\n",
    "others=cum_bonds[cum_bonds['bond_types']=='Others']\n",
    "green=cum_bonds[cum_bonds['bond_types']=='Green bonds']\n",
    "unsecured=cum_bonds[cum_bonds['bond_types']=='Senior Unsecured']\n",
    "zero=cum_bonds[cum_bonds['bond_types']=='Zero-coupon bonds']"
   ]
  },
  {
   "cell_type": "code",
   "execution_count": 18,
   "metadata": {
    "ExecuteTime": {
     "end_time": "2021-05-22T17:21:43.102441Z",
     "start_time": "2021-05-22T17:21:42.734607Z"
    },
    "scrolled": true
   },
   "outputs": [
    {
     "data": {
      "image/png": "[encoded data removed]",
      "text/plain": [
       "<Figure size 1440x576 with 1 Axes>"
      ]
     },
     "metadata": {},
     "output_type": "display_data"
    }
   ],
   "source": [
    "inv_plot1, ax=plt.subplots(figsize=(20, 8))\n",
    "plt.plot(others['n_week'], others['week_percent'], 'b-', label = 'others')\n",
    "plt.plot(green['n_week'], green['week_percent'], 'g-', label = 'green')\n",
    "plt.plot(unsecured['n_week'], unsecured['week_percent'], '-', label = 'unsecured')\n",
    "plt.plot(zero['n_week'], zero['week_percent'], 'y-', label = 'zero')\n",
    "plt.xlabel('week'); plt.ylabel('Euros'); plt.title('Investment progression')\n",
    "plt.legend();\n",
    "plt.savefig('inv_plot.png')\n",
    "plt.show()\n"
   ]
  },
  {
   "cell_type": "code",
   "execution_count": 21,
   "metadata": {},
   "outputs": [],
   "source": [
    "#plot saved image\n",
    "response = requests.get('https://github.com/Dansieg91/ECB-Bond-Purchases/raw/main/Plots/Cor_An.png')\n",
    "inv_prog = Image.open(BytesIO(response.content))"
   ]
  },
  {
   "cell_type": "code",
   "execution_count": null,
   "metadata": {
    "ExecuteTime": {
     "end_time": "2021-05-22T16:56:18.035063Z",
     "start_time": "2021-05-22T16:56:17.894602Z"
    }
   },
   "outputs": [],
   "source": [
    "##Total investment by week and bond type\n",
    "cum_industry=bonds.groupby(['n_week','industry'], as_index=False).agg(total_invest=('nom_amount', sum))"
   ]
  },
  {
   "cell_type": "code",
   "execution_count": null,
   "metadata": {
    "ExecuteTime": {
     "end_time": "2021-05-22T16:58:48.371812Z",
     "start_time": "2021-05-22T16:58:48.331658Z"
    }
   },
   "outputs": [],
   "source": [
    "#Total investment per week\n",
    "sum_week_industry=cum_industry.groupby('n_week', as_index=False).sum()\n",
    "cum_industry.T"
   ]
  },
  {
   "cell_type": "code",
   "execution_count": null,
   "metadata": {
    "ExecuteTime": {
     "end_time": "2021-05-22T17:02:08.526419Z",
     "start_time": "2021-05-22T17:02:08.492245Z"
    }
   },
   "outputs": [],
   "source": [
    "total_per_week=[]\n",
    "for i in range(0, 201, 1):\n",
    "    repeated=  itertools.repeat(sum_week_industry['total_invest'][i], 16)\n",
    "    total_per_week.extend(repeated)\n",
    "cum_industry['weekly_total']=total_per_week\n",
    "#Percentage of weekly total invest\n",
    "cum_industry['week_percent']=cum_industry['total_invest']/cum_industry['weekly_total']"
   ]
  },
  {
   "cell_type": "markdown",
   "metadata": {},
   "source": [
    "## Investment by industry"
   ]
  },
  {
   "cell_type": "code",
   "execution_count": null,
   "metadata": {
    "ExecuteTime": {
     "end_time": "2021-05-22T17:03:41.011802Z",
     "start_time": "2021-05-22T17:03:40.937728Z"
    }
   },
   "outputs": [],
   "source": [
    "chemical_petrochemical_industry=cum_industry[cum_industry['industry']=='Chemical and petrochemical industry']                                   \n",
    "Construction_development=cum_industry[cum_industry['industry']=='Construction and development']                                    \n",
    "Food_industry =cum_industry[cum_industry['industry']=='Food industry']                                     \n",
    "Oil_gas=cum_industry[cum_industry['industry']=='Oil and gas']                                   \n",
    "Engineering_industry=cum_industry[cum_industry['industry']=='Engineering industry']                                    \n",
    "Information_High_Technologies=cum_industry[cum_industry['industry']=='Information and High Technologies']                                    \n",
    "Power =cum_industry[cum_industry['industry']=='Power']                                     \n",
    "Media_Entertainment =cum_industry[cum_industry['industry']=='Media and Entertainment']                                    \n",
    "Communication=cum_industry[cum_industry['industry']=='Communication']                                    \n",
    "Public_utilities =cum_industry[cum_industry['industry']=='Public utilities']                                     \n",
    "Financial_institutions =cum_industry[cum_industry['industry']=='Financial institutions']                                     \n",
    "Transportation=cum_industry[cum_industry['industry']=='Transportation']                                    \n",
    "Other_sectors =cum_industry[cum_industry['industry']=='Other sectors']                                     \n",
    "Healthсare =cum_industry[cum_industry['industry']=='Healthсare']                                     \n",
    "Light_industry=cum_industry[cum_industry['industry']=='Light industry']                                  \n",
    "Trade_retail=cum_industry[cum_industry['industry']=='Trade and retail']  "
   ]
  },
  {
   "cell_type": "code",
   "execution_count": null,
   "metadata": {
    "ExecuteTime": {
     "end_time": "2021-05-22T17:20:46.447245Z",
     "start_time": "2021-05-22T17:20:45.832201Z"
    }
   },
   "outputs": [],
   "source": [
    "plt.figure(figsize=(20, 8))\n",
    "\n",
    "plt.plot(chemical_petrochemical_industry['n_week'],chemical_petrochemical_industry['week_percent'], 'd-', label = 'chemical_petrochemical_industry')                       \n",
    "plt.plot(Construction_development['n_week'],Construction_development['week_percent'], 'b-', label = 'Construction_development')          \n",
    "plt.plot(Food_industry['n_week'],Food_industry['week_percent'], 'c-', label = 'Food_industry')\n",
    "plt.plot(Oil_gas['n_week'],Oil_gas['week_percent'],'d-', label = 'Oil_gas')          \n",
    "plt.plot(Engineering_industry['n_week'],Engineering_industry['week_percent'], 'y-', label = 'Engineering_industry')                                                          \n",
    "plt.plot(Information_High_Technologies['n_week'],Information_High_Technologies['week_percent'], 'g-', label = 'Information_High_Technologies')                                          \n",
    "plt.plot(Power['n_week'],Power['week_percent'], 'r-', label = 'Power')                          \n",
    "plt.plot(Media_Entertainment['n_week'],Media_Entertainment['week_percent'], 'h-', label = 'Media_Entertainment')                                                               \n",
    "plt.plot(Communication['n_week'],Communication['week_percent'], 'p-', label = 'Communication')                                         \n",
    "plt.plot(Public_utilities['n_week'],Public_utilities['week_percent'], 'r-', label = 'Public_utilities')                                                            \n",
    "plt.plot(Financial_institutions['n_week'],Financial_institutions['week_percent'], 'p-', label = 'Financial_institutions')                                         \n",
    "plt.plot(Transportation['n_week'],Transportation['week_percent'], 'w-', label = 'Transportation')                                                          \n",
    "plt.plot(Other_sectors['n_week'],Other_sectors['week_percent'], 'm-', label = 'Other_sectors')                                                            \n",
    "plt.plot(Healthсare['n_week'],Healthсare['week_percent'], 'h-', label = 'Healthсare')                                                            \n",
    "plt.plot(Light_industry['n_week'],Light_industry['week_percent'], 'o-', label = 'Light_industry')                                                        \n",
    "plt.plot(Trade_retail['n_week'],Trade_retail['week_percent'], 'p-', label = 'Trade_retail') \n",
    "\n",
    "plt.xlabel('week'); plt.ylabel('Euros'); plt.title('Investment progression')\n",
    "\n",
    "plt.legend();\n",
    "plt.savefig('inv_plot_ind.png')"
   ]
  },
  {
   "cell_type": "code",
   "execution_count": null,
   "metadata": {},
   "outputs": [],
   "source": [
    "#plot saved image\n",
    "response = requests.get('https://github.com/Dansieg91/ECB-Bond-Purchases/raw/main/Plots/inv_plot_ind.png')\n",
    "inv_prog_ind = Image.open(BytesIO(response.content))"
   ]
  }
 ],
 "metadata": {
  "kernelspec": {
   "display_name": "Python 3",
   "language": "python",
   "name": "python3"
  },
  "language_info": {
   "codemirror_mode": {
    "name": "ipython",
    "version": 3
   },
   "file_extension": ".py",
   "mimetype": "text/x-python",
   "name": "python",
   "nbconvert_exporter": "python",
   "pygments_lexer": "ipython3",
   "version": "3.8.5"
  },
  "toc": {
   "base_numbering": 1,
   "nav_menu": {},
   "number_sections": true,
   "sideBar": true,
   "skip_h1_title": false,
   "title_cell": "Table of Contents",
   "title_sidebar": "Contents",
   "toc_cell": false,
   "toc_position": {
    "height": "calc(100% - 180px)",
    "left": "10px",
    "top": "150px",
    "width": "215.153px"
   },
   "toc_section_display": true,
   "toc_window_display": true
  },
  "varInspector": {
   "cols": {
    "lenName": 16,
    "lenType": 16,
    "lenVar": 40
   },
   "kernels_config": {
    "python": {
     "delete_cmd_postfix": "",
     "delete_cmd_prefix": "del ",
     "library": "var_list.py",
     "varRefreshCmd": "print(var_dic_list())"
    },
    "r": {
     "delete_cmd_postfix": ") ",
     "delete_cmd_prefix": "rm(",
     "library": "var_list.r",
     "varRefreshCmd": "cat(var_dic_list()) "
    }
   },
   "position": {
    "height": "282.208px",
    "left": "959.778px",
    "right": "20px",
    "top": "96px",
    "width": "350px"
   },
   "types_to_exclude": [
    "module",
    "function",
    "builtin_function_or_method",
    "instance",
    "_Feature"
   ],
   "window_display": false
  }
 },
 "nbformat": 4,
 "nbformat_minor": 4
}
