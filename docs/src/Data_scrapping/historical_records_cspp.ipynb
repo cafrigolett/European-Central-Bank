{
 "cells": [
  {
   "cell_type": "code",
   "execution_count": 296,
   "metadata": {},
   "outputs": [],
   "source": [
    "import pandas as pd\n",
    "import glob"
   ]
  },
  {
   "cell_type": "code",
   "execution_count": 297,
   "metadata": {},
   "outputs": [],
   "source": [
    "q2_2017_path = r'/Users/gabbyvinco/Desktop/historical_lists_cspp/2017/Q2'\n",
    "q3_2017_path = r'/Users/gabbyvinco/Desktop/historical_lists_cspp/2017/Q3'\n",
    "q4_2017_path = r'/Users/gabbyvinco/Desktop/historical_lists_cspp/2017/Q4'\n",
    "q1_2018_path = r'/Users/gabbyvinco/Desktop/historical_lists_cspp/2018/Q1'\n",
    "q2_2018_path = r'/Users/gabbyvinco/Desktop/historical_lists_cspp/2018/Q2'\n",
    "q3_2018_path = r'/Users/gabbyvinco/Desktop/historical_lists_cspp/2018/Q3'\n",
    "q4_2018_path = r'/Users/gabbyvinco/Desktop/historical_lists_cspp/2018/Q4'\n",
    "q1_2019_path = r'/Users/gabbyvinco/Desktop/historical_lists_cspp/2019/Q1'\n",
    "q2_2019_path = r'/Users/gabbyvinco/Desktop/historical_lists_cspp/2019/Q2'\n",
    "q3_2019_path = r'/Users/gabbyvinco/Desktop/historical_lists_cspp/2019/Q3'\n",
    "q4_2019_path = r'/Users/gabbyvinco/Desktop/historical_lists_cspp/2019/Q4'\n",
    "q1_2020_path = r'/Users/gabbyvinco/Desktop/historical_lists_cspp/2020/Q1'\n",
    "q2_2020_path = r'/Users/gabbyvinco/Desktop/historical_lists_cspp/2020/Q2'\n",
    "q3_2020_path = r'/Users/gabbyvinco/Desktop/historical_lists_cspp/2020/Q3'\n",
    "q4_2020_path = r'/Users/gabbyvinco/Desktop/historical_lists_cspp/2020/Q4'\n",
    "q1_2021_path = r'/Users/gabbyvinco/Desktop/historical_lists_cspp/2021/Q1'\n",
    "q2_2021_path = r'/Users/gabbyvinco/Desktop/historical_lists_cspp/2021/Q2'\n",
    "\n",
    "list_of_paths = [q2_2017_path, q3_2017_path, q4_2017_path, \n",
    "                 q1_2018_path, q2_2018_path, q3_2018_path, \n",
    "                 q4_2018_path, q1_2019_path, q2_2019_path, \n",
    "                 q3_2019_path, q4_2019_path, q1_2020_path, \n",
    "                 q2_2020_path, q3_2020_path, q4_2020_path, \n",
    "                 q1_2021_path, q2_2021_path]\n"
   ]
  },
  {
   "cell_type": "code",
   "execution_count": 298,
   "metadata": {},
   "outputs": [],
   "source": [
    "another_list = []"
   ]
  },
  {
   "cell_type": "code",
   "execution_count": 299,
   "metadata": {},
   "outputs": [],
   "source": [
    "for path in list_of_paths:\n",
    "    all_files = glob.glob(path + \"/*.csv\")\n",
    "    another_list.append(all_files)"
   ]
  },
  {
   "cell_type": "code",
   "execution_count": 300,
   "metadata": {},
   "outputs": [
    {
     "data": {
      "text/plain": [
       "'/Users/gabbyvinco/Desktop/historical_lists_cspp/2017/Q2/CSPPholdings_20170623.csv'"
      ]
     },
     "execution_count": 300,
     "metadata": {},
     "output_type": "execute_result"
    }
   ],
   "source": [
    "another_list[0][1]"
   ]
  },
  {
   "cell_type": "code",
   "execution_count": 301,
   "metadata": {},
   "outputs": [],
   "source": [
    "list_of_df_names = [\"q2_2017_df\", \"q3_2017_df\", \"q4_2017_df\", \"q1_2018_df\", \n",
    " \"q2_2018_df\", \"q3_2018_df\", \"q4_2018_df\", \"q1_2019_df\", \n",
    " \"q2_2019_df\", \"q3_2019_df\", \"q4_2019_df\", \"q1_2020_df\", \n",
    " \"q2_2020_df\", \"q3_2020_df\", \"q4_2020_df\", \"q1_2021_df\", \n",
    " \"q2_2021_df\"]"
   ]
  },
  {
   "cell_type": "code",
   "execution_count": 302,
   "metadata": {},
   "outputs": [],
   "source": [
    "historical_data = {}\n",
    "for name in list_of_df_names:\n",
    "    historical_data[name] = pd.DataFrame()"
   ]
  },
  {
   "cell_type": "code",
   "execution_count": 303,
   "metadata": {},
   "outputs": [],
   "source": [
    "for i in range(len(list_of_df_names)):\n",
    "    link_length = len(another_list[i])\n",
    "    df_name = list_of_df_names[i]\n",
    "#     print(link_length)\n",
    "    for l in range(link_length):\n",
    "        individual_csv = another_list[i][l]\n",
    "        csv = pd.read_csv(individual_csv, encoding='latin-1')\n",
    "#         print(type(csv))\n",
    "#         print(df_name)\n",
    "#         print(historical_data[df_name])\n",
    "        historical_data[df_name] = historical_data[df_name].append(csv)\n",
    "        "
   ]
  },
  {
   "cell_type": "code",
   "execution_count": 304,
   "metadata": {},
   "outputs": [
    {
     "data": {
      "text/plain": [
       "0      XS1088274169\n",
       "1      XS1088274672\n",
       "2      XS1144492532\n",
       "3      XS1571982468\n",
       "4      XS0859920406\n",
       "           ...     \n",
       "975    XS1581375182\n",
       "976    XS1627947440\n",
       "977    XS1639488771\n",
       "978    XS1645722262\n",
       "979    XS1646530565\n",
       "Name: ISIN_CODE, Length: 12946, dtype: object"
      ]
     },
     "execution_count": 304,
     "metadata": {},
     "output_type": "execute_result"
    }
   ],
   "source": [
    "historical_data['q3_2017_df'][\"ISIN_CODE\"]"
   ]
  },
  {
   "cell_type": "code",
   "execution_count": 308,
   "metadata": {},
   "outputs": [],
   "source": [
    "# only keep ISIN code column\n",
    "final_table_columns = ['ISIN', 'ISIN_CODE', 'ISIN_CODE_']\n",
    "for df in historical_data:\n",
    "    cols = historical_data[df].columns\n",
    "    for col in cols:\n",
    "        if col not in final_table_columns:\n",
    "            historical_data[df] = historical_data[df].drop(columns=[col])\n"
   ]
  },
  {
   "cell_type": "code",
   "execution_count": 327,
   "metadata": {},
   "outputs": [],
   "source": [
    "# historical_data[\"q2_2019_df\"]"
   ]
  },
  {
   "cell_type": "code",
   "execution_count": 311,
   "metadata": {},
   "outputs": [],
   "source": [
    "# add quarter so the isin code can be identifiable when grouped together\n",
    "for df in historical_data:\n",
    "    if df[:2] == \"q1\":\n",
    "        historical_data[df][\"quarter\"] = \"Q1\"\n",
    "    if df[:2] == \"q2\":\n",
    "        historical_data[df][\"quarter\"] = \"Q2\"\n",
    "    if df[:2] == \"q3\":\n",
    "        historical_data[df][\"quarter\"] = \"Q3\"\n",
    "    if df[:2] == \"q4\":\n",
    "        historical_data[df][\"quarter\"] = \"Q4\""
   ]
  },
  {
   "cell_type": "code",
   "execution_count": 317,
   "metadata": {},
   "outputs": [],
   "source": [
    "# add year so the isin code can be identifiable when grouped together\n",
    "for df in historical_data:\n",
    "    if df[3:7] == \"2017\":\n",
    "        historical_data[df][\"year\"] = \"2017\"\n",
    "    if df[3:7] == \"2018\":\n",
    "        historical_data[df][\"year\"] = \"2018\"\n",
    "    if df[3:7] == \"2019\":\n",
    "        historical_data[df][\"year\"] = \"2019\"\n",
    "    if df[3:7] == \"2020\":\n",
    "        historical_data[df][\"year\"] = \"2020\"\n",
    "    if df[3:7] == \"2021\":\n",
    "        historical_data[df][\"year\"] = \"2021\""
   ]
  },
  {
   "cell_type": "code",
   "execution_count": 319,
   "metadata": {},
   "outputs": [],
   "source": [
    "# create a new column for isin code so all dfs have the same column names\n",
    "for df in historical_data:\n",
    "    historical_data[df][\"ISIN_Code\"] = historical_data[df].iloc[:, 0]"
   ]
  },
  {
   "cell_type": "code",
   "execution_count": 325,
   "metadata": {},
   "outputs": [],
   "source": [
    "# delete pre-existing isin code column\n",
    "for df in historical_data:\n",
    "    historical_data[df] = historical_data[df].drop(historical_data[df].columns[0], axis=1)"
   ]
  },
  {
   "cell_type": "code",
   "execution_count": 342,
   "metadata": {},
   "outputs": [],
   "source": [
    "concat_list = [historical_data[\"q2_2017_df\"], historical_data[\"q3_2017_df\"], historical_data[\"q4_2017_df\"], \n",
    "               historical_data[\"q1_2018_df\"], historical_data[\"q2_2018_df\"], historical_data[\"q3_2018_df\"], \n",
    "               historical_data[\"q4_2018_df\"], historical_data[\"q1_2019_df\"], historical_data[\"q2_2019_df\"], \n",
    "               historical_data[\"q3_2019_df\"], historical_data[\"q4_2019_df\"], historical_data[\"q1_2020_df\"], \n",
    "               historical_data[\"q2_2020_df\"], historical_data[\"q3_2020_df\"], historical_data[\"q4_2020_df\"], \n",
    "               historical_data[\"q1_2021_df\"], historical_data[\"q2_2021_df\"]]\n",
    " "
   ]
  },
  {
   "cell_type": "code",
   "execution_count": 355,
   "metadata": {},
   "outputs": [],
   "source": [
    "all_historical_isin = pd.concat(concat_list)"
   ]
  },
  {
   "cell_type": "code",
   "execution_count": 356,
   "metadata": {},
   "outputs": [],
   "source": [
    "all_historical_isin = all_historical_isin.drop(columns=['ISIN_CODE'])"
   ]
  },
  {
   "cell_type": "code",
   "execution_count": 361,
   "metadata": {},
   "outputs": [],
   "source": [
    "# all_historical_isin"
   ]
  },
  {
   "cell_type": "code",
   "execution_count": 358,
   "metadata": {},
   "outputs": [],
   "source": [
    "all_historical_isin = all_historical_isin.drop_duplicates(subset=['ISIN_Code'])"
   ]
  },
  {
   "cell_type": "code",
   "execution_count": 362,
   "metadata": {},
   "outputs": [],
   "source": [
    "all_historical_isin = all_historical_isin.reset_index(drop=True)"
   ]
  },
  {
   "cell_type": "code",
   "execution_count": 364,
   "metadata": {},
   "outputs": [],
   "source": [
    "# save the unique_improved to csv file\n",
    "# all_historical_isin.to_csv (r'/Users/gabbyvinco/Desktop/ALL_HISTORICAL.csv', index = False, header=True)"
   ]
  },
  {
   "cell_type": "code",
   "execution_count": null,
   "metadata": {},
   "outputs": [],
   "source": []
  }
 ],
 "metadata": {
  "kernelspec": {
   "display_name": "Python 3",
   "language": "python",
   "name": "python3"
  },
  "language_info": {
   "codemirror_mode": {
    "name": "ipython",
    "version": 3
   },
   "file_extension": ".py",
   "mimetype": "text/x-python",
   "name": "python",
   "nbconvert_exporter": "python",
   "pygments_lexer": "ipython3",
   "version": "3.8.5"
  }
 },
 "nbformat": 4,
 "nbformat_minor": 4
}
